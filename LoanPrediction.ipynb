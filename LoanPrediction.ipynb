{
 "cells": [
  {
   "cell_type": "markdown",
   "metadata": {},
   "source": [
    "## Loan Prediction\n",
    "### Author: Adil Zia\n",
    "\n",
    "\n",
    "\n",
    "\n",
    "#### Aims\n",
    "The company wants to automate the loan eligibility process based on customer details provided while filling in an online application form. The aim here is to build a predictive model which accurately classifies new potential customers by their loan eligibility. \n",
    "\n",
    "#### Dataset Source\n",
    "https://datahack.analyticsvidhya.com/contest/practice-problem-loan-prediction-iii/\n"
   ]
  },
  {
   "cell_type": "markdown",
   "metadata": {},
   "source": [
    "### Contents:\n",
    "1. **Import packages and Load data into Pandas** <br>\n",
    "\n",
    "2. **Exploratory Data Analysis** <br>\n",
    "\n",
    "3. **Data Cleaning** <br>\n",
    "3.1 Basic Data cleaning - Modal value approach to replace missing values <br>\n",
    "3.2 Basic+ Data cleaning - Utilising existing relationships to estimate missing values <br>\n",
    "3.3 Sophisticated methods - Supervised learning model to replace missing values  \n",
    "\n",
    "4. **Feature extraction/Transformation** <br>\n",
    "4.1 Create new variable <br>\n",
    "4.2 Log Transformations <br> \n",
    "\n",
    "5. **Machine learning:**  <br>\n",
    "5.1 Categorical Variable encoding <br>\n",
    "5.2 Function to automate the modelling process & output of performance metrics <br>\n",
    "5.3 Implementing KNN, Logistic Regression, Decision Tree, Random Forest <br>\n",
    "5.5 Conclusions <br>\n",
    "5.6 Potential improvements: Recognising potential areas of improvement and more advanced methods which could further improve the results. "
   ]
  },
  {
   "cell_type": "markdown",
   "metadata": {},
   "source": [
    "#### Variable Descriptions:\n",
    "\n",
    "- **Loan_ID:**                  >  Unique Loan ID <br>\n",
    "- **Gender:**\t                >  Male/ Female <br>\n",
    "- **Married:**\t                >  Applicant married (Y/N) <br>\n",
    "- **Dependents:**\t            >  Number of dependents <br>\n",
    "- **Education:**\t            >  Applicant Education (Graduate/ Under Graduate) <br>\n",
    "- **Self_Employed:**\t        >  Self employed (Y/N) <br>\n",
    "- **ApplicantIncome:**\t        >  Applicant income (Monthly) <br>\n",
    "- **CoapplicantIncome:**\t    >  Coapplicant income (Monthly) <br>\n",
    "- **LoanAmount:**\t            >  Loan amount in thousands <br>\n",
    "- **Loan_Amount_Term:**\t        >  Term of loan in months <br>\n",
    "- **Credit_History:**\t        >  Credit history meets guidelines <br>\n",
    "- **Property_Area:**\t        >  Urban/ Semi Urban/ Rural <br>\n",
    "- **Loan_Status:**\t            >  Loan approved (Y/N)"
   ]
  },
  {
   "cell_type": "code",
   "execution_count": 1,
   "metadata": {
    "collapsed": true,
    "scrolled": true
   },
   "outputs": [],
   "source": [
    "#Import the required packages\n",
    "import pandas as pd\n",
    "import numpy as np\n",
    "import matplotlib.pyplot as plt\n",
    "import seaborn as sns\n",
    "%matplotlib inline\n",
    "\n",
    "#Load our dataset into a Pandas dataframe\n",
    "df = pd.read_csv(\"loanprediction.csv\")   "
   ]
  },
  {
   "cell_type": "code",
   "execution_count": 2,
   "metadata": {},
   "outputs": [
    {
     "data": {
      "text/html": [
       "<div>\n",
       "<style>\n",
       "    .dataframe thead tr:only-child th {\n",
       "        text-align: right;\n",
       "    }\n",
       "\n",
       "    .dataframe thead th {\n",
       "        text-align: left;\n",
       "    }\n",
       "\n",
       "    .dataframe tbody tr th {\n",
       "        vertical-align: top;\n",
       "    }\n",
       "</style>\n",
       "<table border=\"1\" class=\"dataframe\">\n",
       "  <thead>\n",
       "    <tr style=\"text-align: right;\">\n",
       "      <th></th>\n",
       "      <th>Loan_ID</th>\n",
       "      <th>Gender</th>\n",
       "      <th>Married</th>\n",
       "      <th>Dependents</th>\n",
       "      <th>Education</th>\n",
       "      <th>Self_Employed</th>\n",
       "      <th>ApplicantIncome</th>\n",
       "      <th>CoapplicantIncome</th>\n",
       "      <th>LoanAmount</th>\n",
       "      <th>Loan_Amount_Term</th>\n",
       "      <th>Credit_History</th>\n",
       "      <th>Property_Area</th>\n",
       "      <th>Loan_Status</th>\n",
       "    </tr>\n",
       "  </thead>\n",
       "  <tbody>\n",
       "    <tr>\n",
       "      <th>0</th>\n",
       "      <td>LP001002</td>\n",
       "      <td>Male</td>\n",
       "      <td>No</td>\n",
       "      <td>0</td>\n",
       "      <td>Graduate</td>\n",
       "      <td>No</td>\n",
       "      <td>5849</td>\n",
       "      <td>0.0</td>\n",
       "      <td>NaN</td>\n",
       "      <td>360.0</td>\n",
       "      <td>1.0</td>\n",
       "      <td>Urban</td>\n",
       "      <td>Y</td>\n",
       "    </tr>\n",
       "    <tr>\n",
       "      <th>1</th>\n",
       "      <td>LP001003</td>\n",
       "      <td>Male</td>\n",
       "      <td>Yes</td>\n",
       "      <td>1</td>\n",
       "      <td>Graduate</td>\n",
       "      <td>No</td>\n",
       "      <td>4583</td>\n",
       "      <td>1508.0</td>\n",
       "      <td>128.0</td>\n",
       "      <td>360.0</td>\n",
       "      <td>1.0</td>\n",
       "      <td>Rural</td>\n",
       "      <td>N</td>\n",
       "    </tr>\n",
       "    <tr>\n",
       "      <th>2</th>\n",
       "      <td>LP001005</td>\n",
       "      <td>Male</td>\n",
       "      <td>Yes</td>\n",
       "      <td>0</td>\n",
       "      <td>Graduate</td>\n",
       "      <td>Yes</td>\n",
       "      <td>3000</td>\n",
       "      <td>0.0</td>\n",
       "      <td>66.0</td>\n",
       "      <td>360.0</td>\n",
       "      <td>1.0</td>\n",
       "      <td>Urban</td>\n",
       "      <td>Y</td>\n",
       "    </tr>\n",
       "    <tr>\n",
       "      <th>3</th>\n",
       "      <td>LP001006</td>\n",
       "      <td>Male</td>\n",
       "      <td>Yes</td>\n",
       "      <td>0</td>\n",
       "      <td>Not Graduate</td>\n",
       "      <td>No</td>\n",
       "      <td>2583</td>\n",
       "      <td>2358.0</td>\n",
       "      <td>120.0</td>\n",
       "      <td>360.0</td>\n",
       "      <td>1.0</td>\n",
       "      <td>Urban</td>\n",
       "      <td>Y</td>\n",
       "    </tr>\n",
       "    <tr>\n",
       "      <th>4</th>\n",
       "      <td>LP001008</td>\n",
       "      <td>Male</td>\n",
       "      <td>No</td>\n",
       "      <td>0</td>\n",
       "      <td>Graduate</td>\n",
       "      <td>No</td>\n",
       "      <td>6000</td>\n",
       "      <td>0.0</td>\n",
       "      <td>141.0</td>\n",
       "      <td>360.0</td>\n",
       "      <td>1.0</td>\n",
       "      <td>Urban</td>\n",
       "      <td>Y</td>\n",
       "    </tr>\n",
       "  </tbody>\n",
       "</table>\n",
       "</div>"
      ],
      "text/plain": [
       "    Loan_ID Gender Married Dependents     Education Self_Employed  \\\n",
       "0  LP001002   Male      No          0      Graduate            No   \n",
       "1  LP001003   Male     Yes          1      Graduate            No   \n",
       "2  LP001005   Male     Yes          0      Graduate           Yes   \n",
       "3  LP001006   Male     Yes          0  Not Graduate            No   \n",
       "4  LP001008   Male      No          0      Graduate            No   \n",
       "\n",
       "   ApplicantIncome  CoapplicantIncome  LoanAmount  Loan_Amount_Term  \\\n",
       "0             5849                0.0         NaN             360.0   \n",
       "1             4583             1508.0       128.0             360.0   \n",
       "2             3000                0.0        66.0             360.0   \n",
       "3             2583             2358.0       120.0             360.0   \n",
       "4             6000                0.0       141.0             360.0   \n",
       "\n",
       "   Credit_History Property_Area Loan_Status  \n",
       "0             1.0         Urban           Y  \n",
       "1             1.0         Rural           N  \n",
       "2             1.0         Urban           Y  \n",
       "3             1.0         Urban           Y  \n",
       "4             1.0         Urban           Y  "
      ]
     },
     "execution_count": 2,
     "metadata": {},
     "output_type": "execute_result"
    }
   ],
   "source": [
    "df.head()"
   ]
  },
  {
   "cell_type": "code",
   "execution_count": 3,
   "metadata": {},
   "outputs": [
    {
     "data": {
      "text/html": [
       "<div>\n",
       "<style>\n",
       "    .dataframe thead tr:only-child th {\n",
       "        text-align: right;\n",
       "    }\n",
       "\n",
       "    .dataframe thead th {\n",
       "        text-align: left;\n",
       "    }\n",
       "\n",
       "    .dataframe tbody tr th {\n",
       "        vertical-align: top;\n",
       "    }\n",
       "</style>\n",
       "<table border=\"1\" class=\"dataframe\">\n",
       "  <thead>\n",
       "    <tr style=\"text-align: right;\">\n",
       "      <th></th>\n",
       "      <th>ApplicantIncome</th>\n",
       "      <th>CoapplicantIncome</th>\n",
       "      <th>LoanAmount</th>\n",
       "      <th>Loan_Amount_Term</th>\n",
       "      <th>Credit_History</th>\n",
       "    </tr>\n",
       "  </thead>\n",
       "  <tbody>\n",
       "    <tr>\n",
       "      <th>count</th>\n",
       "      <td>614.000000</td>\n",
       "      <td>614.000000</td>\n",
       "      <td>592.000000</td>\n",
       "      <td>600.00000</td>\n",
       "      <td>564.000000</td>\n",
       "    </tr>\n",
       "    <tr>\n",
       "      <th>mean</th>\n",
       "      <td>5403.459283</td>\n",
       "      <td>1621.245798</td>\n",
       "      <td>146.412162</td>\n",
       "      <td>342.00000</td>\n",
       "      <td>0.842199</td>\n",
       "    </tr>\n",
       "    <tr>\n",
       "      <th>std</th>\n",
       "      <td>6109.041673</td>\n",
       "      <td>2926.248369</td>\n",
       "      <td>85.587325</td>\n",
       "      <td>65.12041</td>\n",
       "      <td>0.364878</td>\n",
       "    </tr>\n",
       "    <tr>\n",
       "      <th>min</th>\n",
       "      <td>150.000000</td>\n",
       "      <td>0.000000</td>\n",
       "      <td>9.000000</td>\n",
       "      <td>12.00000</td>\n",
       "      <td>0.000000</td>\n",
       "    </tr>\n",
       "    <tr>\n",
       "      <th>25%</th>\n",
       "      <td>2877.500000</td>\n",
       "      <td>0.000000</td>\n",
       "      <td>100.000000</td>\n",
       "      <td>360.00000</td>\n",
       "      <td>1.000000</td>\n",
       "    </tr>\n",
       "    <tr>\n",
       "      <th>50%</th>\n",
       "      <td>3812.500000</td>\n",
       "      <td>1188.500000</td>\n",
       "      <td>128.000000</td>\n",
       "      <td>360.00000</td>\n",
       "      <td>1.000000</td>\n",
       "    </tr>\n",
       "    <tr>\n",
       "      <th>75%</th>\n",
       "      <td>5795.000000</td>\n",
       "      <td>2297.250000</td>\n",
       "      <td>168.000000</td>\n",
       "      <td>360.00000</td>\n",
       "      <td>1.000000</td>\n",
       "    </tr>\n",
       "    <tr>\n",
       "      <th>max</th>\n",
       "      <td>81000.000000</td>\n",
       "      <td>41667.000000</td>\n",
       "      <td>700.000000</td>\n",
       "      <td>480.00000</td>\n",
       "      <td>1.000000</td>\n",
       "    </tr>\n",
       "  </tbody>\n",
       "</table>\n",
       "</div>"
      ],
      "text/plain": [
       "       ApplicantIncome  CoapplicantIncome  LoanAmount  Loan_Amount_Term  \\\n",
       "count       614.000000         614.000000  592.000000         600.00000   \n",
       "mean       5403.459283        1621.245798  146.412162         342.00000   \n",
       "std        6109.041673        2926.248369   85.587325          65.12041   \n",
       "min         150.000000           0.000000    9.000000          12.00000   \n",
       "25%        2877.500000           0.000000  100.000000         360.00000   \n",
       "50%        3812.500000        1188.500000  128.000000         360.00000   \n",
       "75%        5795.000000        2297.250000  168.000000         360.00000   \n",
       "max       81000.000000       41667.000000  700.000000         480.00000   \n",
       "\n",
       "       Credit_History  \n",
       "count      564.000000  \n",
       "mean         0.842199  \n",
       "std          0.364878  \n",
       "min          0.000000  \n",
       "25%          1.000000  \n",
       "50%          1.000000  \n",
       "75%          1.000000  \n",
       "max          1.000000  "
      ]
     },
     "execution_count": 3,
     "metadata": {},
     "output_type": "execute_result"
    }
   ],
   "source": [
    "df.describe()"
   ]
  },
  {
   "cell_type": "markdown",
   "metadata": {},
   "source": [
    "Here we can quickly see some key statistics regarding our numerical columns.\n",
    "- There are missing values in LoanAmount, Loan_Amount_Term, and Credit_History\n",
    "- Applicant & Co-Applicant Income exhibit right skew (Mean > Median), and also have relatively large standard deviations. \n",
    "- 84% of people in our dataset have a credit history that meets guidelines\n",
    "\n"
   ]
  },
  {
   "cell_type": "code",
   "execution_count": 4,
   "metadata": {
    "scrolled": true
   },
   "outputs": [
    {
     "name": "stdout",
     "output_type": "stream",
     "text": [
      "<class 'pandas.core.frame.DataFrame'>\n",
      "RangeIndex: 614 entries, 0 to 613\n",
      "Data columns (total 13 columns):\n",
      "Loan_ID              614 non-null object\n",
      "Gender               601 non-null object\n",
      "Married              611 non-null object\n",
      "Dependents           599 non-null object\n",
      "Education            614 non-null object\n",
      "Self_Employed        582 non-null object\n",
      "ApplicantIncome      614 non-null int64\n",
      "CoapplicantIncome    614 non-null float64\n",
      "LoanAmount           592 non-null float64\n",
      "Loan_Amount_Term     600 non-null float64\n",
      "Credit_History       564 non-null float64\n",
      "Property_Area        614 non-null object\n",
      "Loan_Status          614 non-null object\n",
      "dtypes: float64(4), int64(1), object(8)\n",
      "memory usage: 62.4+ KB\n"
     ]
    }
   ],
   "source": [
    "df.info()"
   ]
  },
  {
   "cell_type": "markdown",
   "metadata": {},
   "source": [
    "Here we can see the data-types of each column aswell as the number of missing values present.\n",
    "\n",
    "Clearly there are missing values present amongst several of our features. These missing values will need to be appropriately dealt with.\n"
   ]
  },
  {
   "cell_type": "markdown",
   "metadata": {},
   "source": [
    "# 2: Exploratory Data Analysis\n",
    "\n",
    "Data exploration allows us to spot key trends in our dataset, identify and correct for missing or outlier values, and can help us determine appropriate features to use in our final model.  <br>\n",
    "\n",
    "\n",
    "### 2.1: Univariate Analysis - Continuous Variables\n"
   ]
  },
  {
   "cell_type": "code",
   "execution_count": 5,
   "metadata": {
    "scrolled": true
   },
   "outputs": [
    {
     "data": {
      "text/html": [
       "<div>\n",
       "<style>\n",
       "    .dataframe thead tr:only-child th {\n",
       "        text-align: right;\n",
       "    }\n",
       "\n",
       "    .dataframe thead th {\n",
       "        text-align: left;\n",
       "    }\n",
       "\n",
       "    .dataframe tbody tr th {\n",
       "        vertical-align: top;\n",
       "    }\n",
       "</style>\n",
       "<table border=\"1\" class=\"dataframe\">\n",
       "  <thead>\n",
       "    <tr style=\"text-align: right;\">\n",
       "      <th></th>\n",
       "      <th>Applicant Income</th>\n",
       "      <th>Co-Applicant Income</th>\n",
       "    </tr>\n",
       "  </thead>\n",
       "  <tbody>\n",
       "    <tr>\n",
       "      <th>Mean</th>\n",
       "      <td>5403.459283</td>\n",
       "      <td>1621.245798</td>\n",
       "    </tr>\n",
       "    <tr>\n",
       "      <th>Median</th>\n",
       "      <td>3812.500000</td>\n",
       "      <td>1188.500000</td>\n",
       "    </tr>\n",
       "  </tbody>\n",
       "</table>\n",
       "</div>"
      ],
      "text/plain": [
       "        Applicant Income  Co-Applicant Income\n",
       "Mean         5403.459283          1621.245798\n",
       "Median       3812.500000          1188.500000"
      ]
     },
     "execution_count": 5,
     "metadata": {},
     "output_type": "execute_result"
    },
    {
     "data": {
      "image/png": "[encoded data removed]",
      "text/plain": [
       "<matplotlib.figure.Figure at 0x1a1134ee50>"
      ]
     },
     "metadata": {},
     "output_type": "display_data"
    }
   ],
   "source": [
    "# EXPLORING APPLICANT INCOME & CO-APPLICANT INCOME\n",
    "\n",
    "with sns.axes_style('darkgrid'):      # Seaborn Histogram Visualisation \n",
    "    plt.figure(figsize = (12,5))\n",
    "    df['ApplicantIncome'].hist(bins = 30, alpha = 0.6, label = 'Applicant Income')\n",
    "    df['CoapplicantIncome'].hist(bins = 30, alpha = 0.6, label = 'Co-Applicant Income')\n",
    "    plt.legend()\n",
    "\n",
    "    \n",
    "# Calculate the Means, Medians of ApplicantIncome & Co-Applicant Income    \n",
    "A_Median = np.median(df['ApplicantIncome'],0)\n",
    "A_Mean = np.mean(df['ApplicantIncome'],0)\n",
    "C_Median = np.median(df['CoapplicantIncome'],0)\n",
    "C_Mean = np.mean(df['CoapplicantIncome'],0)\n",
    "\n",
    "m_and_m = {'Applicant Income':{'Median':A_Median,'Mean':A_Mean},  # Pass into a dictionary\n",
    "'Co-Applicant Income':{'Median':C_Median,'Mean':C_Mean}}\n",
    "\n",
    "# Display in the form of a small dataframe\n",
    "pd.DataFrame(data = m_and_m)\n",
    "\n",
    "\n"
   ]
  },
  {
   "cell_type": "markdown",
   "metadata": {},
   "source": [
    "**The above graph reveals the following:** <br>\n",
    "- The distributions are very right skewed, with extreme values. <br>\n",
    "- ApplicantIncome tends to be higher than Co-ApplicantIncome\n",
    "- To nullify the impact of extreme values, we could apply a **log-transformation** to these variables, before building our final model."
   ]
  },
  {
   "cell_type": "code",
   "execution_count": 6,
   "metadata": {},
   "outputs": [
    {
     "name": "stdout",
     "output_type": "stream",
     "text": [
      "Median Graduate: 4000\n",
      "Mean Graduate: 5857\n",
      "Median Not Graduate 3357\n",
      "Mean Not Graduate 3777\n"
     ]
    },
    {
     "data": {
      "image/png": "[encoded data removed]",
      "text/plain": [
       "<matplotlib.figure.Figure at 0x1a11377590>"
      ]
     },
     "metadata": {},
     "output_type": "display_data"
    }
   ],
   "source": [
    "# Explore the relationship between EDUCATION and Applicant Income\n",
    "# Assess Outlier values\n",
    "\n",
    "with sns.axes_style('darkgrid'):\n",
    "    plt.figure(figsize = (14,6))\n",
    "    sns.boxplot(x='ApplicantIncome',y='Education',data=df,orient = 'h')\n",
    "    \n",
    "print ('Median Graduate: %d') %(np.median(df[df['Education'] == 'Graduate']['ApplicantIncome'],0))\n",
    "print ('Mean Graduate: %d') %(np.mean(df[df['Education'] == 'Graduate']['ApplicantIncome'],0))\n",
    "print ('Median Not Graduate %d') %(np.median(df[df['Education'] == 'Not Graduate']['ApplicantIncome'],0))\n",
    "print ('Mean Not Graduate %d') %(np.mean(df[df['Education'] == 'Not Graduate']['ApplicantIncome'],0))"
   ]
  },
  {
   "cell_type": "markdown",
   "metadata": {},
   "source": [
    "**Noticable in the above graph, is the relationship between education and the more extreme values of Income.** <br> \n",
    "Having an Education does not significantly increase the Median Income, however it is clear that it significantly increases the likelihood of an extreme income.\n",
    "\n",
    "This gives us some intuition into the reason for existence of such a right-skewed distribution. In this case, I will assume these values to be genuine real-world values, reflecting the income disparity in society, rather than consider them to be erroneous outliers. "
   ]
  },
  {
   "cell_type": "code",
   "execution_count": 7,
   "metadata": {},
   "outputs": [
    {
     "data": {
      "image/png": "[encoded data removed]",
      "text/plain": [
       "<matplotlib.figure.Figure at 0x1a113a6410>"
      ]
     },
     "metadata": {},
     "output_type": "display_data"
    }
   ],
   "source": [
    "# Seaborn Histogram of LoanAmount\n",
    "\n",
    "with sns.axes_style('darkgrid'):\n",
    "    plt.figure(figsize = (10,5))\n",
    "    sns.distplot(df['LoanAmount'].dropna(),axlabel = 'Loan Amount')  # DropNa arguement to ignore missing values \n",
    "    "
   ]
  },
  {
   "cell_type": "markdown",
   "metadata": {},
   "source": [
    "Similarly, we see that LoanAmount is right skewed. Just as before, I will assume these are genuine data points which do not need to be removed. It seems feasible that some few individuals could requests a far larger loan value for specific needs. "
   ]
  },
  {
   "cell_type": "code",
   "execution_count": 8,
   "metadata": {},
   "outputs": [
    {
     "name": "stdout",
     "output_type": "stream",
     "text": [
      "Distribution of Applicant Pool\n",
      "0.0    0.157801\n",
      "1.0    0.842199\n",
      "Name: Credit_History, dtype: float64\n",
      "\n",
      "Probability of Loan by Credit_History\n",
      "Loan_Status            N         Y\n",
      "Credit_History                    \n",
      "0.0             0.921348  0.078652\n",
      "1.0             0.204211  0.795789\n",
      "\n",
      "Probability of Credit_History by Loan\n",
      "Credit_History       0.0       1.0\n",
      "Loan_Status                       \n",
      "N               0.458101  0.541899\n",
      "Y               0.018182  0.981818\n"
     ]
    }
   ],
   "source": [
    "# Number of Applicants by credit history\n",
    "temp1 = df['Credit_History'].value_counts(ascending = True, normalize = True)      \n",
    "\n",
    "# Probability of receiving a Loan by credit history\n",
    "temp2 = pd.crosstab(df['Credit_History'], df['Loan_Status'],normalize = 'index')\n",
    "\n",
    "# Probability of credit_history by Loan_Status\n",
    "temp2b = pd.crosstab(df['Loan_Status'],df['Credit_History'],normalize = 'index')\n",
    "print 'Distribution of Applicant Pool'\n",
    "print temp1\n",
    "print\n",
    "print 'Probability of Loan by Credit_History'\n",
    "print temp2\n",
    "print\n",
    "print 'Probability of Credit_History by Loan'\n",
    "print temp2b"
   ]
  },
  {
   "cell_type": "markdown",
   "metadata": {},
   "source": [
    "**Conclusions regarding the above tables discussed below**\n"
   ]
  },
  {
   "cell_type": "code",
   "execution_count": 9,
   "metadata": {
    "scrolled": true
   },
   "outputs": [
    {
     "data": {
      "image/png": "[encoded data removed]",
      "text/plain": [
       "<matplotlib.figure.Figure at 0x1a18da5f90>"
      ]
     },
     "metadata": {},
     "output_type": "display_data"
    }
   ],
   "source": [
    "# Visualising the above tables \n",
    "\n",
    "#PLOT 1: Number of Applicants grouped by Credit History\n",
    "with sns.axes_style('darkgrid'):    \n",
    "    fig = plt.figure(figsize = (12,8))  \n",
    "    ax1 = fig.add_subplot(221)         \n",
    "    temp1.plot(kind = 'bar', ax = ax1)\n",
    "    ax1.set_xlabel('Credit_History')      \n",
    "    ax1.set_ylabel('Count of Applicants')\n",
    "    ax1.set_title('Applicants by Credit_History')\n",
    "\n",
    "#PLOT 2: Probability of recieving Loan by Credit History \n",
    "with sns.axes_style('darkgrid'):\n",
    "    ax2 = fig.add_subplot(222)  \n",
    "    temp2.plot(kind = \"bar\", stacked = True, ax = ax2) \n",
    "    ax2.set_xlabel('Credit_History') \n",
    "    ax2.set_ylabel('Probability of getting Loan')\n",
    "    ax2.set_title('Probability of getting Loan by Credit_history')\n",
    "    \n",
    "#PlOT 3: Probability of Credit_History by Loan Status\n",
    "with sns.axes_style('darkgrid'):\n",
    "    ax3 = fig.add_subplot(223)  \n",
    "    temp2b.plot(kind = \"bar\", stacked = True, ax = ax3) \n",
    "    ax3.set_xlabel('Loan Status') \n",
    "    ax3.set_ylabel('Probability of Getting Loan')\n",
    "    ax3.set_title('Probability of Credit_history by Loan')\n",
    "\n",
    "plt.tight_layout()"
   ]
  },
  {
   "cell_type": "markdown",
   "metadata": {},
   "source": [
    "##### The above tables/graphs reveal some important insights about Credit_History.\n",
    "\n",
    "- 85% of Applicants have a 1.0 Credit History\n",
    "- Those with a 1.0 Credit history have an **80%** chance of receiving a loan\n",
    "- Those without a 0.0 Credit history have an **8%** chance of receiving a Loan\n",
    "\n",
    "##### Impact of Bayes Theorem\n",
    "However, when looking at the probability of Credit_History by Loan, the result may surprise some people:\n",
    "- Of those who receive a Loan, **98.2%** have a satisfactory 1.0 Credit History\n",
    "- Of those who were rejected for a Loan, **54%** have a Satisfactory 1.0 Credit_History!\n",
    "\n",
    "- ***This phenomenon is due to the distribution of the Applicant Pool. Only 15% of the Applicants have a bad 0.0 Credit History. ***"
   ]
  },
  {
   "cell_type": "code",
   "execution_count": 10,
   "metadata": {},
   "outputs": [
    {
     "name": "stdout",
     "output_type": "stream",
     "text": [
      "Semiurban    233\n",
      "Urban        202\n",
      "Rural        179\n",
      "Name: Property_Area, dtype: int64\n",
      "\n",
      "Loan_Status           N         Y\n",
      "Property_Area                    \n",
      "Rural          0.385475  0.614525\n",
      "Semiurban      0.231760  0.768240\n",
      "Urban          0.341584  0.658416\n"
     ]
    },
    {
     "data": {
      "image/png": "[encoded data removed]",
      "text/plain": [
       "<matplotlib.figure.Figure at 0x1a18d87f10>"
      ]
     },
     "metadata": {},
     "output_type": "display_data"
    }
   ],
   "source": [
    "#Explore the relationship between Property_Area and Loan_Status\n",
    "# Value counts\n",
    "print df['Property_Area'].value_counts()\n",
    "print\n",
    "# Pivot Table, Probabilities of Receiving a Loan by Property Type\n",
    "temp3 = pd.crosstab(index = df['Property_Area'],columns = df['Loan_Status'],normalize = 'index')\n",
    "print temp3\n",
    "\n",
    "# Plot the Probabilties of Receiving a Loan by Property Type, Stacked Bar Chart\n",
    "temp3.plot(kind = 'bar', stacked = True)\n",
    "plt.show()"
   ]
  },
  {
   "cell_type": "markdown",
   "metadata": {},
   "source": [
    "It seems that living in a Semi-urban area increases the chance of being approved for a Loan. <br>\n",
    "- Those in a Semi-Urban Area have a 77% chance of being accepted for a loan. <br>\n",
    "- Those in Urban & Rural Areas have a 66% and 61% chance respectively. \n"
   ]
  },
  {
   "cell_type": "code",
   "execution_count": 11,
   "metadata": {},
   "outputs": [
    {
     "data": {
      "image/png": "[encoded data removed]",
      "text/plain": [
       "<matplotlib.figure.Figure at 0x10c270110>"
      ]
     },
     "metadata": {},
     "output_type": "display_data"
    }
   ],
   "source": [
    "# Seaborn Scatter Plot, LoanAmount, ApplicantIncome, coloured by Loan_Status\n",
    "\n",
    "# Log transform ApplicantIncome to nullify the effect of extreme values\n",
    "df['ApplicantIncome_log'] = np.log(df['ApplicantIncome'])\n",
    "df['LoanAmount_log'] = np.log(df['LoanAmount'])\n",
    "\n",
    "sns.pairplot(data = df, hue = 'Loan_Status', x_vars = 'ApplicantIncome_log', y_vars = 'LoanAmount_log', size = 6)\n",
    "plt.show()"
   ]
  },
  {
   "cell_type": "markdown",
   "metadata": {
    "collapsed": true
   },
   "source": [
    "### This graph reveals that these two variables are not linearly seperable. \n",
    "- The aim of the above plot? To see if there is any 'linear seperability' over the two variables in comparison with respect to Loan_Status classificiation. <br>\n",
    "- It seems that lower values of 'LoanAmount' correlate with a higher rate of Loan Acceptance due to the density of blue dots.<br>"
   ]
  },
  {
   "cell_type": "markdown",
   "metadata": {},
   "source": [
    "## 3.0 DATA CLEANING\n",
    "- There were no typo's \n",
    "- There are missing values in 7 columns which required replacing with appropriate estimated values\n",
    "- I used the modal/median value to replace missing values in 5 columns with ~65 to 85% accuracy.\n",
    "\n",
    "#### Using existing relationships to create improved estimates \n",
    "- For Dependents, I used the 'Married' Status variable to help create a better estimate for No. Dependents."
   ]
  },
  {
   "cell_type": "code",
   "execution_count": 13,
   "metadata": {},
   "outputs": [
    {
     "name": "stdout",
     "output_type": "stream",
     "text": [
      "['Male' 'Female' nan]\n",
      "['No' 'Yes' nan]\n",
      "['0' '1' '2' '3+' nan]\n",
      "['Graduate' 'Not Graduate']\n",
      "['No' 'Yes' nan]\n",
      "['Urban' 'Rural' 'Semiurban']\n",
      "['Y' 'N']\n"
     ]
    }
   ],
   "source": [
    "# CHECKING FOR TYPOS\n",
    "\n",
    "for column, row in df.iloc[:,1:].iteritems():     \n",
    "    if df[column].dtype == 'object':              # Iterate only if data-type is object\n",
    "        print df[column].unique()                 # Display a list of the unique values in that column"
   ]
  },
  {
   "cell_type": "markdown",
   "metadata": {},
   "source": [
    "** As demonstrated above, the list of unique values in each category is exactly as we would expect. This reveals that there are no typo's. There are however, clearly missing values, which we will take care of below. **"
   ]
  },
  {
   "cell_type": "code",
   "execution_count": 14,
   "metadata": {},
   "outputs": [
    {
     "data": {
      "text/plain": [
       "Loan_ID                 0\n",
       "Gender                 13\n",
       "Married                 3\n",
       "Dependents             15\n",
       "Education               0\n",
       "Self_Employed          32\n",
       "ApplicantIncome         0\n",
       "CoapplicantIncome       0\n",
       "LoanAmount             22\n",
       "Loan_Amount_Term       14\n",
       "Credit_History         50\n",
       "Property_Area           0\n",
       "Loan_Status             0\n",
       "ApplicantIncome_log     0\n",
       "LoanAmount_log         22\n",
       "TotalIncome             0\n",
       "TotalIncome_log         0\n",
       "dtype: int64"
      ]
     },
     "execution_count": 14,
     "metadata": {},
     "output_type": "execute_result"
    }
   ],
   "source": [
    "# Count & Display how many Null values are in each column \n",
    "df.apply(lambda x: sum(x.isnull()), axis = 0)"
   ]
  },
  {
   "cell_type": "markdown",
   "metadata": {},
   "source": [
    "#### 3.1 Cleaning the categorical variables: Loan_Amount_Term, Gender, Credit_History, Married and Self_Employed \n",
    "- Approach: Replacing with modal values for ~65% to 85% accuracy\n",
    "\n"
   ]
  },
  {
   "cell_type": "code",
   "execution_count": 15,
   "metadata": {},
   "outputs": [
    {
     "name": "stdout",
     "output_type": "stream",
     "text": [
      "Loan_ID                 0\n",
      "Gender                  0\n",
      "Married                 0\n",
      "Dependents             15\n",
      "Education               0\n",
      "Self_Employed           0\n",
      "ApplicantIncome         0\n",
      "CoapplicantIncome       0\n",
      "LoanAmount             22\n",
      "Loan_Amount_Term        0\n",
      "Credit_History          0\n",
      "Property_Area           0\n",
      "Loan_Status             0\n",
      "ApplicantIncome_log     0\n",
      "LoanAmount_log         22\n",
      "TotalIncome             0\n",
      "TotalIncome_log         0\n",
      "dtype: int64\n"
     ]
    }
   ],
   "source": [
    "#LOAN AMOUNT TERM NULL VALUES:\n",
    "df['Loan_Amount_Term'].value_counts(1)                   # 85% of people have loan term of 360\n",
    "df['Loan_Amount_Term'].fillna(360, inplace = True)       # Impute Null values with '360'\n",
    "\n",
    "#GENDER NULL VALUES:\n",
    "df['Gender'].value_counts(1)                             # 81% in this dataset are Male  \n",
    "df['Gender'].fillna('Male', inplace = True)              # Impute Null values with 'Male'\n",
    "\n",
    "#CREDIT HISTORY NULL VALUES:\n",
    "df['Credit_History'].value_counts(1)                     # 85% have a credit History\n",
    "df['Credit_History'].fillna(1.0, inplace = True)         # Impute Null values with '1.0'\n",
    "        \n",
    "#MARRIED NULL VALUES\n",
    "df['Married'].value_counts(1)                            # 65% are Married \n",
    "df['Married'].fillna('Yes', inplace = True)              # Imput Null Values with 'Yes'\n",
    "\n",
    "#SELF EMPLOYED NULL VALUES\n",
    "df['Self_Employed'].value_counts(1)                      # 85% are not Self_Employed\n",
    "df['Self_Employed'].fillna('No',inplace=True)            # Impute Null values with 'No'\n",
    "\n",
    "\n",
    "print df.apply(lambda x: sum(x.isnull()), axis = 0)"
   ]
  },
  {
   "cell_type": "markdown",
   "metadata": {},
   "source": [
    "### 3.2 Cleaning the Dependents variable\n",
    "\n",
    "**Approach:**\n",
    "I used the 'Married' Status variable to help create a better estimate for the number of Dependents.<br>\n",
    "- Those who are Married  had a median value of 1.0 Dependents.\n",
    "- Those who were not Married had a median value of 0.0 Dependents. \n",
    "\n",
    "To enable this calculation, I first converted the data-type from 'object' to a numerical format - This required converting the '3+' category into '3'. "
   ]
  },
  {
   "cell_type": "code",
   "execution_count": 16,
   "metadata": {},
   "outputs": [
    {
     "name": "stderr",
     "output_type": "stream",
     "text": [
      "/anaconda2/lib/python2.7/site-packages/pandas/core/indexing.py:179: SettingWithCopyWarning: \n",
      "A value is trying to be set on a copy of a slice from a DataFrame\n",
      "\n",
      "See the caveats in the documentation: http://pandas.pydata.org/pandas-docs/stable/indexing.html#indexing-view-versus-copy\n",
      "  self._setitem_with_indexer(indexer, value)\n"
     ]
    },
    {
     "name": "stdout",
     "output_type": "stream",
     "text": [
      "Datatype of Dependents: float64\n",
      "         Dependents\n",
      "Married            \n",
      "No              0.0\n",
      "Yes             1.0\n"
     ]
    }
   ],
   "source": [
    "# Iterate and convert all '3+' values into 3, enabling data-type conversion\n",
    "\n",
    "for index, value in df['Dependents'].iteritems():\n",
    "    if df['Dependents'].iloc[index] == '3+':\n",
    "        df['Dependents'].loc[index] = 3\n",
    "\n",
    "        \n",
    "# Convert the data-type to float, enabling calculation\n",
    "df['Dependents'] = df['Dependents'].astype('float64')\n",
    "\n",
    "print 'Datatype of Dependents: %s' %df['Dependents'].dtype  # Confirm the data-type succesfully changed\n",
    "\n",
    "\n",
    "# Pivot Table displaying the median value of Dependents grouped by marriage status\n",
    "dep_Piv = df.pivot_table(values = 'Dependents',index = 'Married', aggfunc = np.median)\n",
    "print dep_Piv\n",
    "\n",
    "# RESULT: Median Dependents for Married is 1.0, Median for Non-Married is 0.0\n",
    "\n",
    "\n",
    "# Conditionally replace missing values with these estimated values \n",
    "df[\"Dependents\"].fillna(df.groupby(\"Married\")[\"Dependents\"].transform(\"median\"), inplace = True)\n",
    "\n",
    "\n",
    "# ERROR - SEE BELOW. \"A value is trying to be set on a copy of a slice from a dataframe\". \n",
    "# I was sure the above code from stackoverflow fixed this?\n"
   ]
  },
  {
   "cell_type": "markdown",
   "metadata": {},
   "source": [
    "### 3.3 Sophisticated Data Cleaning Approach: \n",
    "\n",
    "**Using a multiple linear regression to estimate the missing LoanAmount values** <br>\n",
    "\n",
    "The model is built upon 2 predictor variables: TotalIncome_log, Loan_Amount_Term\n",
    "\n",
    "**The model achieves a RMSE score of 46.5, and a R^2 score of 0.53.** <br>"
   ]
  },
  {
   "cell_type": "code",
   "execution_count": 219,
   "metadata": {
    "collapsed": true
   },
   "outputs": [],
   "source": [
    "# Create new variable - TotalIncome_Log\n",
    "df['TotalIncome'] = df['ApplicantIncome'] + df['CoapplicantIncome']  \n",
    "# Apply a log transformation\n",
    "df['TotalIncome_log'] = np.log(df['TotalIncome'])"
   ]
  },
  {
   "cell_type": "code",
   "execution_count": 223,
   "metadata": {},
   "outputs": [],
   "source": [
    "# Import required packages for multiple linear regression\n",
    "from sklearn.linear_model import LinearRegression\n",
    "from sklearn.model_selection import train_test_split\n",
    "\n",
    "# Train, test split the dataset\n",
    "# Since LoanAmount has missing values, use pd.notnull to access all non-missing values\n",
    "X_lm = df[pd.notnull(df['LoanAmount'])][['TotalIncome_log','Loan_Amount_Term']]\n",
    "y_lm = df[pd.notnull(df['LoanAmount'])]['LoanAmount']\n",
    "X_train, X_test, y_train, y_test = train_test_split(X_lm,y_lm,test_size = 0.2,random_state = 10)"
   ]
  },
  {
   "cell_type": "code",
   "execution_count": 224,
   "metadata": {},
   "outputs": [
    {
     "data": {
      "text/html": [
       "<div>\n",
       "<style>\n",
       "    .dataframe thead tr:only-child th {\n",
       "        text-align: right;\n",
       "    }\n",
       "\n",
       "    .dataframe thead th {\n",
       "        text-align: left;\n",
       "    }\n",
       "\n",
       "    .dataframe tbody tr th {\n",
       "        vertical-align: top;\n",
       "    }\n",
       "</style>\n",
       "<table border=\"1\" class=\"dataframe\">\n",
       "  <thead>\n",
       "    <tr style=\"text-align: right;\">\n",
       "      <th></th>\n",
       "      <th>Values</th>\n",
       "    </tr>\n",
       "  </thead>\n",
       "  <tbody>\n",
       "    <tr>\n",
       "      <th>TotalIncome_log</th>\n",
       "      <td>110.398803</td>\n",
       "    </tr>\n",
       "    <tr>\n",
       "      <th>Loan_Amount_Term</th>\n",
       "      <td>0.079676</td>\n",
       "    </tr>\n",
       "    <tr>\n",
       "      <th>Bias</th>\n",
       "      <td>-836.441204</td>\n",
       "    </tr>\n",
       "  </tbody>\n",
       "</table>\n",
       "</div>"
      ],
      "text/plain": [
       "                      Values\n",
       "TotalIncome_log   110.398803\n",
       "Loan_Amount_Term    0.079676\n",
       "Bias             -836.441204"
      ]
     },
     "execution_count": 224,
     "metadata": {},
     "output_type": "execute_result"
    }
   ],
   "source": [
    "# Instantiate and train the linear regression\n",
    "reg = LinearRegression(fit_intercept = True,normalize = True)\n",
    "reg.fit(X_train,y_train)\n",
    "\n",
    "# Display the coefficients of the model for interpretation\n",
    "columns = list(X_train.columns)\n",
    "columns.append('Bias')\n",
    "weights = np.append(reg.coef_,reg.intercept_)\n",
    "\n",
    "pd.DataFrame(weights,index = columns,columns = ['Values'])"
   ]
  },
  {
   "cell_type": "code",
   "execution_count": 226,
   "metadata": {},
   "outputs": [],
   "source": [
    "# Use the model to make predictions on the training and testing set\n",
    "test_predictions = reg.predict(X_test)\n",
    "train_predictions = reg.predict(X_train)"
   ]
  },
  {
   "cell_type": "markdown",
   "metadata": {},
   "source": [
    "### Checking the Model is Valid: Testing the assumptions of the Linear regression \n",
    "** There are 5 main assumptions the Linear regression model makes. I will now test how well these assumptions hold true**\n",
    "- There is a linear relationship between the predictors and predicted\n",
    "- The errors are distributed normally with N(0,o^2)\n",
    "- The variance o^2 is constant, the same variance regardless of the value of X\n",
    "- The error terms are uncorrelated and indepdent \n",
    "- Little or no multicolinearity in the data (The features used are uncorrelated)\n",
    "\n"
   ]
  },
  {
   "cell_type": "code",
   "execution_count": 227,
   "metadata": {},
   "outputs": [
    {
     "data": {
      "text/plain": [
       "<matplotlib.text.Text at 0x1a19dd4190>"
      ]
     },
     "execution_count": 227,
     "metadata": {},
     "output_type": "execute_result"
    },
    {
     "data": {
      "image/png": "[encoded data removed]",
      "text/plain": [
       "<matplotlib.figure.Figure at 0x1a19d85c10>"
      ]
     },
     "metadata": {},
     "output_type": "display_data"
    },
    {
     "data": {
      "image/png": "[encoded data removed]",
      "text/plain": [
       "<matplotlib.figure.Figure at 0x1a19f10550>"
      ]
     },
     "metadata": {},
     "output_type": "display_data"
    }
   ],
   "source": [
    "# Display the performance of the model visually \n",
    "\n",
    "\n",
    "# To plot the 45 degree diagonal line - Represents perfect predictions\n",
    "xx = np.linspace(0,700,100)\n",
    "yy = np.linspace(0,700,100)\n",
    "\n",
    "\n",
    "# Plot of Predictions vs Actual with 45 degree perfect line displayed\n",
    "plt.figure()\n",
    "sns.regplot(y_train,train_predictions,fit_reg = False)\n",
    "plt.plot(xx,yy,'r')\n",
    "plt.title(\"Training set predictions\")\n",
    "plt.xlabel('True LoanAmount values')\n",
    "plt.ylabel('Predicted values')\n",
    "\n",
    "\n",
    "plt.figure()\n",
    "sns.regplot(y_test,test_predictions, fit_reg = False)\n",
    "plt.plot(xx,yy,'r')\n",
    "plt.title('Testing set predictions')\n",
    "plt.xlabel('True LoanAmount values')\n",
    "plt.ylabel('Predicted values')"
   ]
  },
  {
   "cell_type": "code",
   "execution_count": 228,
   "metadata": {},
   "outputs": [
    {
     "data": {
      "text/plain": [
       "<matplotlib.text.Text at 0x1a19c56e10>"
      ]
     },
     "execution_count": 228,
     "metadata": {},
     "output_type": "execute_result"
    },
    {
     "data": {
      "image/png": "[encoded data removed]",
      "text/plain": [
       "<matplotlib.figure.Figure at 0x1a1d04dc90>"
      ]
     },
     "metadata": {},
     "output_type": "display_data"
    }
   ],
   "source": [
    "# Evaluate the validity of the model - Plot the distribution of the errors\n",
    "plt.figure()\n",
    "sns.distplot(y_test - test_predictions)\n",
    "plt.title(\"Distribution of regression errors\")"
   ]
  },
  {
   "cell_type": "code",
   "execution_count": 229,
   "metadata": {},
   "outputs": [
    {
     "data": {
      "text/plain": [
       "<matplotlib.text.Text at 0x1a1e0c0d10>"
      ]
     },
     "execution_count": 229,
     "metadata": {},
     "output_type": "execute_result"
    },
    {
     "data": {
      "image/png": "[encoded data removed]",
      "text/plain": [
       "<matplotlib.figure.Figure at 0x1a1dcbcf10>"
      ]
     },
     "metadata": {},
     "output_type": "display_data"
    }
   ],
   "source": [
    "plt.scatter(test_predictions,(y_test-test_predictions),label = 'Residual')\n",
    "plt.plot(np.linspace(0,500,100),[0]*100,'r', label = '0 Line')\n",
    "plt.legend()\n",
    "plt.title('Residuals VS Predicted')\n",
    "plt.xlabel('Residuals')\n",
    "plt.ylabel('Predicted')"
   ]
  },
  {
   "cell_type": "markdown",
   "metadata": {},
   "source": [
    "### Is the model valid?\n",
    "The investigation reveals that: <br>\n",
    "- The **constant variance** assumption is violated\n",
    "- There is still some pattern left within the data which is not being accounted for by the model.\n",
    "- The errors are normally distributed\n",
    "\n",
    "#### Answer: No, the model is statistically flawed"
   ]
  },
  {
   "cell_type": "markdown",
   "metadata": {},
   "source": [
    "### How does the model perform?"
   ]
  },
  {
   "cell_type": "code",
   "execution_count": 230,
   "metadata": {},
   "outputs": [
    {
     "name": "stdout",
     "output_type": "stream",
     "text": [
      "46.4782518488\n",
      "0.52848306179\n"
     ]
    }
   ],
   "source": [
    "# Evaluate the performance of the linear regression \n",
    "from sklearn import metrics \n",
    "\n",
    "# Root Mean Squared Error\n",
    "print np.sqrt(metrics.mean_squared_error(y_test,test_predictions))\n",
    "\n",
    "# R^2 Metric\n",
    "print reg.score(X_test,y_test)"
   ]
  },
  {
   "cell_type": "markdown",
   "metadata": {},
   "source": [
    "### These results show that the regression is predicting LoanAmount values reasonably well.\n",
    "**The RMSE score is 47 and the R^2 score is 0.52** <br>\n",
    "\n",
    "** Although the assumptions of the linear regression are violated, The model performs decently. I'm not going to be too much of a perfectionist here, as this project is just a learning experience for me. So I will still use the model. **"
   ]
  },
  {
   "cell_type": "markdown",
   "metadata": {},
   "source": [
    "### Next step: Using the model predictions to replace the missing values of LoanAmount \n",
    "\n",
    "- To do this, I have created a function which returns the models prediction for an individual row.\n",
    "I have then iterated over the dataframe, and if the LoanAmount value is missing, I have replaced it's value with the models prediction. "
   ]
  },
  {
   "cell_type": "code",
   "execution_count": 231,
   "metadata": {},
   "outputs": [
    {
     "data": {
      "text/plain": [
       "Loan_ID                 0\n",
       "Gender                  0\n",
       "Married                 0\n",
       "Dependents              0\n",
       "Education               0\n",
       "Self_Employed           0\n",
       "ApplicantIncome         0\n",
       "CoapplicantIncome       0\n",
       "LoanAmount              0\n",
       "Loan_Amount_Term        0\n",
       "Credit_History          0\n",
       "Property_Area           0\n",
       "Loan_Status             0\n",
       "ApplicantIncome_log     0\n",
       "LoanAmount_log          0\n",
       "TotalIncome             0\n",
       "TotalIncome_log         0\n",
       "Loan_Amount_Term_Log    0\n",
       "Loan_Status_Mapped      0\n",
       "dtype: int64"
      ]
     },
     "execution_count": 231,
     "metadata": {},
     "output_type": "execute_result"
    }
   ],
   "source": [
    "# Function which generates the models prediction for a specified row in the dataframe\n",
    "def PredictLA(row):\n",
    "    x_variables = row[['TotalIncome_log','Credit_History','Loan_Amount_Term']].reshape(1,-1)\n",
    "    prediction = reg.predict(x_variables)\n",
    "    return prediction\n",
    "\n",
    "\n",
    "# Iterating over the dataframe\n",
    "for index, value in df['LoanAmount'].iteritems():\n",
    "    \n",
    "# IF the LoanAmount value is missing...\n",
    "\n",
    "    if np.isnan(df['LoanAmount'].iloc[index]):\n",
    "        x_variables = df.iloc[index][['TotalIncome_log','Credit_History','Loan_Amount_Term']].reshape(1,-1)\n",
    "        prediction = reg.predict(x_variables)\n",
    "        \n",
    "# ... Replace it with the prediction!\n",
    "        df['LoanAmount'].iloc[index] = prediction\n",
    "    \n",
    "# Show us if there are any missing values in any column remaining\n",
    "df.apply(lambda x: sum(x.isnull()), axis = 0)"
   ]
  },
  {
   "cell_type": "markdown",
   "metadata": {},
   "source": [
    "### Success! There are no more missing values left. All data cleaning has been completed"
   ]
  },
  {
   "cell_type": "markdown",
   "metadata": {},
   "source": [
    "## 4.0 Feature extraction/Transformation  \n",
    "\n",
    "### 4.1 New Feature\n",
    "- **TotalIncome** = ApplicantIncome + CoApplicantIncome\n",
    "I decided to use this feature because we might imagine that Applicant Income & Co-Applicant income would contribute to an applicants ability to pay back a Loan. \n",
    "\n",
    "\n",
    "### 4.2 Log Transformations\n",
    "- The LoanAmount, ApplicantIncome and Co-ApplicantIncome variables exhibited a right-skewed distribution. <br>\n",
    "- We can apply a log transformation which will nullify the effect of extreme values, and produce a more 'normal' shaped distribution which can give us better results."
   ]
  },
  {
   "cell_type": "code",
   "execution_count": 126,
   "metadata": {},
   "outputs": [
    {
     "data": {
      "image/png": "[encoded data removed]",
      "text/plain": [
       "<matplotlib.figure.Figure at 0x1a1cf08590>"
      ]
     },
     "metadata": {},
     "output_type": "display_data"
    }
   ],
   "source": [
    "#Combine incomes to a new variable: Total Income\n",
    "df['TotalIncome'] = df['ApplicantIncome'] + df['CoapplicantIncome']  \n",
    "\n",
    "#Apply the log transformations\n",
    "df['LoanAmount_log'] = np.log(df['LoanAmount'])\n",
    "df['TotalIncome_log'] = np.log(df['TotalIncome'])\n",
    "\n",
    "\n",
    "fig = plt.figure(figsize = (10,8)) \n",
    "ax1 = fig.add_subplot(221) \n",
    "df['LoanAmount'].plot(kind = 'hist', bins = 25, ax = ax1)\n",
    "ax1.set_xlabel('Actual Loan Amount') \n",
    "ax1.set_ylabel('Frequency')\n",
    "ax1.set_title('Loan Amount')\n",
    "\n",
    "ax2 = fig.add_subplot(222)         \n",
    "ax2.set_xlabel('Loan Amount Log')      \n",
    "ax2.set_ylabel('Frequency')\n",
    "ax2.set_title('Loan Amount Log')\n",
    "df['LoanAmount_log'].plot(kind = 'hist',bins = 25, ax = ax2)\n",
    "\n",
    "ax3 = fig.add_subplot(223)\n",
    "df['TotalIncome'].plot(kind = 'hist',bins = 25, ax = ax3)\n",
    "ax3.set_xlabel('Total Income') \n",
    "ax3.set_ylabel('Frequency')\n",
    "ax3.set_title('Total Income')\n",
    "\n",
    "ax4 = fig.add_subplot(224)\n",
    "df['TotalIncome_log'].plot(kind = 'hist',bins = 25, ax = ax4)\n",
    "ax4.set_xlabel('Total Income Log') \n",
    "ax4.set_ylabel('Frequency')\n",
    "ax4.set_title('Total Income Log')\n",
    "\n",
    "plt.tight_layout()\n"
   ]
  },
  {
   "cell_type": "markdown",
   "metadata": {
    "collapsed": true
   },
   "source": [
    "## 5.0 Machine Learning\n",
    "### 5.1 Categorical Variable Encoding: \n",
    "Encoding the categorical variables into indicator/dummy variables: \n",
    "\n",
    "**Approach:** I am using one-hot encoding over other approaches such as LabelEncoder, because the categorical variables in consideration are 'unordered'. One-hot encoding maintains this via a binary nature, whereas LabelEncoding generates a column of numerical labels which implies an order. This can be misleading for algorithms which run based off 'distance' calculations."
   ]
  },
  {
   "cell_type": "code",
   "execution_count": 236,
   "metadata": {},
   "outputs": [
    {
     "data": {
      "text/html": [
       "<div>\n",
       "<style>\n",
       "    .dataframe thead tr:only-child th {\n",
       "        text-align: right;\n",
       "    }\n",
       "\n",
       "    .dataframe thead th {\n",
       "        text-align: left;\n",
       "    }\n",
       "\n",
       "    .dataframe tbody tr th {\n",
       "        vertical-align: top;\n",
       "    }\n",
       "</style>\n",
       "<table border=\"1\" class=\"dataframe\">\n",
       "  <thead>\n",
       "    <tr style=\"text-align: right;\">\n",
       "      <th></th>\n",
       "      <th>Loan_ID</th>\n",
       "      <th>Dependents</th>\n",
       "      <th>ApplicantIncome</th>\n",
       "      <th>CoapplicantIncome</th>\n",
       "      <th>LoanAmount</th>\n",
       "      <th>Loan_Amount_Term</th>\n",
       "      <th>Credit_History</th>\n",
       "      <th>ApplicantIncome_log</th>\n",
       "      <th>LoanAmount_log</th>\n",
       "      <th>TotalIncome</th>\n",
       "      <th>TotalIncome_log</th>\n",
       "      <th>Loan_Amount_Term_Log</th>\n",
       "      <th>Loan_Status_Mapped</th>\n",
       "      <th>Gender_Male</th>\n",
       "      <th>Married_Yes</th>\n",
       "      <th>Education_Not Graduate</th>\n",
       "      <th>Self_Employed_Yes</th>\n",
       "      <th>Property_Area_Semiurban</th>\n",
       "      <th>Property_Area_Urban</th>\n",
       "      <th>Loan_Status_Y</th>\n",
       "    </tr>\n",
       "  </thead>\n",
       "  <tbody>\n",
       "    <tr>\n",
       "      <th>0</th>\n",
       "      <td>LP001002</td>\n",
       "      <td>0.0</td>\n",
       "      <td>5849</td>\n",
       "      <td>0.0</td>\n",
       "      <td>149.295738</td>\n",
       "      <td>360.0</td>\n",
       "      <td>1.0</td>\n",
       "      <td>8.674026</td>\n",
       "      <td>5.005929</td>\n",
       "      <td>5849.0</td>\n",
       "      <td>8.674026</td>\n",
       "      <td>5.886104</td>\n",
       "      <td>1.0</td>\n",
       "      <td>1</td>\n",
       "      <td>0</td>\n",
       "      <td>0</td>\n",
       "      <td>0</td>\n",
       "      <td>0</td>\n",
       "      <td>1</td>\n",
       "      <td>1</td>\n",
       "    </tr>\n",
       "    <tr>\n",
       "      <th>1</th>\n",
       "      <td>LP001003</td>\n",
       "      <td>1.0</td>\n",
       "      <td>4583</td>\n",
       "      <td>1508.0</td>\n",
       "      <td>128.000000</td>\n",
       "      <td>360.0</td>\n",
       "      <td>1.0</td>\n",
       "      <td>8.430109</td>\n",
       "      <td>4.852030</td>\n",
       "      <td>6091.0</td>\n",
       "      <td>8.714568</td>\n",
       "      <td>5.886104</td>\n",
       "      <td>0.0</td>\n",
       "      <td>1</td>\n",
       "      <td>1</td>\n",
       "      <td>0</td>\n",
       "      <td>0</td>\n",
       "      <td>0</td>\n",
       "      <td>0</td>\n",
       "      <td>0</td>\n",
       "    </tr>\n",
       "    <tr>\n",
       "      <th>2</th>\n",
       "      <td>LP001005</td>\n",
       "      <td>0.0</td>\n",
       "      <td>3000</td>\n",
       "      <td>0.0</td>\n",
       "      <td>66.000000</td>\n",
       "      <td>360.0</td>\n",
       "      <td>1.0</td>\n",
       "      <td>8.006368</td>\n",
       "      <td>4.189655</td>\n",
       "      <td>3000.0</td>\n",
       "      <td>8.006368</td>\n",
       "      <td>5.886104</td>\n",
       "      <td>1.0</td>\n",
       "      <td>1</td>\n",
       "      <td>1</td>\n",
       "      <td>0</td>\n",
       "      <td>1</td>\n",
       "      <td>0</td>\n",
       "      <td>1</td>\n",
       "      <td>1</td>\n",
       "    </tr>\n",
       "    <tr>\n",
       "      <th>3</th>\n",
       "      <td>LP001006</td>\n",
       "      <td>0.0</td>\n",
       "      <td>2583</td>\n",
       "      <td>2358.0</td>\n",
       "      <td>120.000000</td>\n",
       "      <td>360.0</td>\n",
       "      <td>1.0</td>\n",
       "      <td>7.856707</td>\n",
       "      <td>4.787492</td>\n",
       "      <td>4941.0</td>\n",
       "      <td>8.505323</td>\n",
       "      <td>5.886104</td>\n",
       "      <td>1.0</td>\n",
       "      <td>1</td>\n",
       "      <td>1</td>\n",
       "      <td>1</td>\n",
       "      <td>0</td>\n",
       "      <td>0</td>\n",
       "      <td>1</td>\n",
       "      <td>1</td>\n",
       "    </tr>\n",
       "    <tr>\n",
       "      <th>4</th>\n",
       "      <td>LP001008</td>\n",
       "      <td>0.0</td>\n",
       "      <td>6000</td>\n",
       "      <td>0.0</td>\n",
       "      <td>141.000000</td>\n",
       "      <td>360.0</td>\n",
       "      <td>1.0</td>\n",
       "      <td>8.699515</td>\n",
       "      <td>4.948760</td>\n",
       "      <td>6000.0</td>\n",
       "      <td>8.699515</td>\n",
       "      <td>5.886104</td>\n",
       "      <td>1.0</td>\n",
       "      <td>1</td>\n",
       "      <td>0</td>\n",
       "      <td>0</td>\n",
       "      <td>0</td>\n",
       "      <td>0</td>\n",
       "      <td>1</td>\n",
       "      <td>1</td>\n",
       "    </tr>\n",
       "  </tbody>\n",
       "</table>\n",
       "</div>"
      ],
      "text/plain": [
       "    Loan_ID  Dependents  ApplicantIncome  CoapplicantIncome  LoanAmount  \\\n",
       "0  LP001002         0.0             5849                0.0  149.295738   \n",
       "1  LP001003         1.0             4583             1508.0  128.000000   \n",
       "2  LP001005         0.0             3000                0.0   66.000000   \n",
       "3  LP001006         0.0             2583             2358.0  120.000000   \n",
       "4  LP001008         0.0             6000                0.0  141.000000   \n",
       "\n",
       "   Loan_Amount_Term  Credit_History  ApplicantIncome_log  LoanAmount_log  \\\n",
       "0             360.0             1.0             8.674026        5.005929   \n",
       "1             360.0             1.0             8.430109        4.852030   \n",
       "2             360.0             1.0             8.006368        4.189655   \n",
       "3             360.0             1.0             7.856707        4.787492   \n",
       "4             360.0             1.0             8.699515        4.948760   \n",
       "\n",
       "   TotalIncome  TotalIncome_log  Loan_Amount_Term_Log  Loan_Status_Mapped  \\\n",
       "0       5849.0         8.674026              5.886104                 1.0   \n",
       "1       6091.0         8.714568              5.886104                 0.0   \n",
       "2       3000.0         8.006368              5.886104                 1.0   \n",
       "3       4941.0         8.505323              5.886104                 1.0   \n",
       "4       6000.0         8.699515              5.886104                 1.0   \n",
       "\n",
       "   Gender_Male  Married_Yes  Education_Not Graduate  Self_Employed_Yes  \\\n",
       "0            1            0                       0                  0   \n",
       "1            1            1                       0                  0   \n",
       "2            1            1                       0                  1   \n",
       "3            1            1                       1                  0   \n",
       "4            1            0                       0                  0   \n",
       "\n",
       "   Property_Area_Semiurban  Property_Area_Urban  Loan_Status_Y  \n",
       "0                        0                    1              1  \n",
       "1                        0                    0              0  \n",
       "2                        0                    1              1  \n",
       "3                        0                    1              1  \n",
       "4                        0                    1              1  "
      ]
     },
     "execution_count": 236,
     "metadata": {},
     "output_type": "execute_result"
    }
   ],
   "source": [
    "# Encoding the categorical variables and assigning to a new dataframe called \"df2\"\n",
    "\n",
    "df2 = pd.get_dummies(df,columns = ['Gender','Married','Education','Self_Employed','Property_Area','Loan_Status'],\n",
    "              drop_first = True)\n",
    "\n",
    "df2.head()    # Displaying the new dataframe"
   ]
  },
  {
   "cell_type": "code",
   "execution_count": 237,
   "metadata": {},
   "outputs": [],
   "source": [
    "#Import required packages\n",
    "# Packages for performance metric analysis\n",
    "from sklearn.cross_validation import KFold   \n",
    "from sklearn import metrics \n",
    "from sklearn.metrics import confusion_matrix\n",
    "\n",
    "# Packages for algorithm implementation\n",
    "from sklearn.linear_model import LogisticRegression\n",
    "from sklearn.ensemble import RandomForestClassifier\n",
    "from sklearn.tree import DecisionTreeClassifier, export_graphviz"
   ]
  },
  {
   "cell_type": "markdown",
   "metadata": {},
   "source": [
    "### Split Dataframe into X predictor variables and target variable Y"
   ]
  },
  {
   "cell_type": "code",
   "execution_count": 243,
   "metadata": {
    "collapsed": true
   },
   "outputs": [],
   "source": [
    "# Dataframe of X variables\n",
    "X = df2.drop(['Loan_ID','Loan_Status_Y'], axis = 1)\n",
    "\n",
    "# Dataframe of the outcome variable, Loan_Status\n",
    "y = df2['Loan_Status_Y']"
   ]
  },
  {
   "cell_type": "markdown",
   "metadata": {},
   "source": [
    "### K-Fold Cross Validation\n",
    "- I have decided to use K-Fold Cross validation instead of train/test split <br>\n",
    "**Reasoning:** <br>\n",
    "K-Fold provides a better estimate of out-of sample accuracy with lower variance. Also, the dataset is small (614) rows, so we benefit from K-Fold making full use of the entire training set. Also, the extra computational cost of K-Fold is irrelevent because the dataset in consideration is small. "
   ]
  },
  {
   "cell_type": "markdown",
   "metadata": {},
   "source": [
    "### Function to automate the modelling process: \n",
    "#### Outputs Accuracy score and Cross Validation accuracy score"
   ]
  },
  {
   "cell_type": "code",
   "execution_count": 239,
   "metadata": {
    "collapsed": true
   },
   "outputs": [],
   "source": [
    "def classify_model(model,X,y):\n",
    "    \n",
    "    # Fit the model:\n",
    "    model.fit(X,y)\n",
    "  \n",
    "    # Make predictions on training set:\n",
    "    predictions = model.predict(X)\n",
    "    \n",
    "    # Training set confusion matrix\n",
    "    cf = confusion_matrix(y,predictions)\n",
    "    print 'Training confusion Matrix'\n",
    "    print cf\n",
    "    print\n",
    "    print metrics.classification_report(y,predictions)\n",
    "  \n",
    "    # Print *training* accuracy\n",
    "    accuracy = metrics.accuracy_score(predictions,y)\n",
    "    print \"Training set accuracy : %s\" % \"{0:.3%}\".format(accuracy)    \n",
    "\n",
    "    kf = KFold(X.shape[0], n_folds=10)\n",
    "    scores = []\n",
    "    aggregate_confusion = np.zeros((2,2))\n",
    "    \n",
    "    for train, test in kf:\n",
    "        \n",
    "        # Filter training and test data\n",
    "        X_train = X.iloc[train,:]\n",
    "        y_train = y.iloc[train]\n",
    "        X_test = X.iloc[test,:]\n",
    "        y_test = y.iloc[test]\n",
    "    \n",
    "        # Fit the model using X_train and y_train\n",
    "        model.fit(X_train, y_train)\n",
    "    \n",
    "        # Record error from each cross-validation run\n",
    "        scores.append(model.score(X.iloc[test,:], y.iloc[test]))\n",
    "        \n",
    "        # Make Predictions\n",
    "        predictionsCV = model.predict(X_test)\n",
    "        \n",
    "        # Confusion matrix at iteration (trained on 4/5th's of data set)\n",
    "        confusion = confusion_matrix(y_test,predictionsCV)\n",
    "        # Aggregated Confusion Matrix\n",
    "        aggregate_confusion += confusion\n",
    "    \n",
    "    AC = pd.DataFrame(aggregate_confusion)\n",
    "    average = float(sum(scores))/ float(len(scores))\n",
    "    \n",
    "    print 'Aggregated Confusion Matrix:'\n",
    "    print AC\n",
    "    print\n",
    "    print 'KFold Accuracy: %s' %\"{0:.3%}\".format(average)\n",
    "    \n",
    "    #return {'AC':AC,'scores': scores,'average': average}"
   ]
  },
  {
   "cell_type": "markdown",
   "metadata": {},
   "source": [
    "### KNeighbors Classifier: Parameter tuning using GridSearchCV"
   ]
  },
  {
   "cell_type": "code",
   "execution_count": 233,
   "metadata": {
    "collapsed": true
   },
   "outputs": [],
   "source": [
    "# Import packages for KNN\n",
    "from sklearn.model_selection import GridSearchCV\n",
    "from sklearn.cross_validation import cross_val_score\n",
    "from sklearn.neighbors import KNeighborsClassifier"
   ]
  },
  {
   "cell_type": "code",
   "execution_count": 245,
   "metadata": {},
   "outputs": [
    {
     "data": {
      "text/plain": [
       "{'n_neighbors': 19}"
      ]
     },
     "execution_count": 245,
     "metadata": {},
     "output_type": "execute_result"
    }
   ],
   "source": [
    "# Implement Grid search for the optimal value of k_neighbours for the model\n",
    "param_grid = {'n_neighbors': np.arange(3, 30)}\n",
    "knn = KNeighborsClassifier()\n",
    "knn_cv = GridSearchCV(knn, param_grid, cv=5)\n",
    "knn_cv.fit(X, y)\n",
    "knn_cv.best_params_"
   ]
  },
  {
   "cell_type": "markdown",
   "metadata": {},
   "source": [
    "### KNeighbours: Train model and output performance metrics:"
   ]
  },
  {
   "cell_type": "code",
   "execution_count": 253,
   "metadata": {},
   "outputs": [
    {
     "name": "stdout",
     "output_type": "stream",
     "text": [
      "Training confusion Matrix\n",
      "[[ 83 109]\n",
      " [  9 413]]\n",
      "\n",
      "             precision    recall  f1-score   support\n",
      "\n",
      "          0       0.90      0.43      0.58       192\n",
      "          1       0.79      0.98      0.87       422\n",
      "\n",
      "avg / total       0.83      0.81      0.78       614\n",
      "\n",
      "Training set accuracy : 80.782%\n",
      "Aggregated Confusion Matrix:\n",
      "      0      1\n",
      "0  81.0  111.0\n",
      "1   9.0  413.0\n",
      "\n",
      "KFold Accuracy: 80.471%\n"
     ]
    }
   ],
   "source": [
    "# Instantiate KNN with the optimal parameter\n",
    "knn = KNeighborsClassifier(n_neighbors = 19)\n",
    "\n",
    "# Select the variables to use in the KNN Model\n",
    "predictor_variables = X[['Credit_History','TotalIncome_log','LoanAmount_log']]\n",
    "\n",
    "# Train the KNN Model using the optimal parameter and our custom function\n",
    "classify_model(knn,predictor_variables,y)"
   ]
  },
  {
   "cell_type": "markdown",
   "metadata": {},
   "source": [
    "### Logistic Regression"
   ]
  },
  {
   "cell_type": "code",
   "execution_count": 250,
   "metadata": {},
   "outputs": [
    {
     "name": "stdout",
     "output_type": "stream",
     "text": [
      "Training confusion Matrix\n",
      "[[ 82 110]\n",
      " [  7 415]]\n",
      "\n",
      "             precision    recall  f1-score   support\n",
      "\n",
      "          0       0.92      0.43      0.58       192\n",
      "          1       0.79      0.98      0.88       422\n",
      "\n",
      "avg / total       0.83      0.81      0.78       614\n",
      "\n",
      "Training set accuracy : 80.945%\n",
      "Aggregated Confusion Matrix:\n",
      "      0      1\n",
      "0  82.0  110.0\n",
      "1   7.0  415.0\n",
      "\n",
      "KFold Accuracy: 80.960%\n"
     ]
    }
   ],
   "source": [
    "# Logistic Regression\n",
    "model = LogisticRegression()\n",
    "predictor_var = X[['Credit_History']]\n",
    "\n",
    "classify_model(model,predictor_var,y)\n",
    "\n"
   ]
  },
  {
   "cell_type": "markdown",
   "metadata": {},
   "source": [
    "### Random Forest"
   ]
  },
  {
   "cell_type": "code",
   "execution_count": 254,
   "metadata": {},
   "outputs": [
    {
     "name": "stdout",
     "output_type": "stream",
     "text": [
      "Training confusion Matrix\n",
      "[[192   0]\n",
      " [  0 422]]\n",
      "\n",
      "             precision    recall  f1-score   support\n",
      "\n",
      "          0       1.00      1.00      1.00       192\n",
      "          1       1.00      1.00      1.00       422\n",
      "\n",
      "avg / total       1.00      1.00      1.00       614\n",
      "\n",
      "Training set accuracy : 100.000%\n",
      "Aggregated Confusion Matrix:\n",
      "      0      1\n",
      "0  92.0  100.0\n",
      "1  32.0  390.0\n",
      "\n",
      "KFold Accuracy: 78.525%\n"
     ]
    }
   ],
   "source": [
    "# Random Forest Algorithm\n",
    "\n",
    "# Model using all available features\n",
    "RF = RandomForestClassifier(n_estimators=100)\n",
    "predictor_var = ['Gender_Male', 'Married_Yes', 'Education_Not Graduate', 'Dependents', \n",
    "                 'Self_Employed_Yes', 'Property_Area_Semiurban', 'Property_Area_Urban', 'Loan_Amount_Term', 'Credit_History', \n",
    "                 'LoanAmount_log','TotalIncome_log']\n",
    "\n",
    "classify_model(RF,X[predictor_var],y)"
   ]
  },
  {
   "cell_type": "code",
   "execution_count": 255,
   "metadata": {},
   "outputs": [
    {
     "data": {
      "text/html": [
       "<div>\n",
       "<style>\n",
       "    .dataframe thead tr:only-child th {\n",
       "        text-align: right;\n",
       "    }\n",
       "\n",
       "    .dataframe thead th {\n",
       "        text-align: left;\n",
       "    }\n",
       "\n",
       "    .dataframe tbody tr th {\n",
       "        vertical-align: top;\n",
       "    }\n",
       "</style>\n",
       "<table border=\"1\" class=\"dataframe\">\n",
       "  <thead>\n",
       "    <tr style=\"text-align: right;\">\n",
       "      <th></th>\n",
       "      <th>Importance</th>\n",
       "    </tr>\n",
       "  </thead>\n",
       "  <tbody>\n",
       "    <tr>\n",
       "      <th>TotalIncome_log</th>\n",
       "      <td>0.269017</td>\n",
       "    </tr>\n",
       "    <tr>\n",
       "      <th>Credit_History</th>\n",
       "      <td>0.247432</td>\n",
       "    </tr>\n",
       "    <tr>\n",
       "      <th>LoanAmount_log</th>\n",
       "      <td>0.240023</td>\n",
       "    </tr>\n",
       "    <tr>\n",
       "      <th>Dependents</th>\n",
       "      <td>0.053966</td>\n",
       "    </tr>\n",
       "    <tr>\n",
       "      <th>Loan_Amount_Term</th>\n",
       "      <td>0.040635</td>\n",
       "    </tr>\n",
       "    <tr>\n",
       "      <th>Property_Area_Semiurban</th>\n",
       "      <td>0.030175</td>\n",
       "    </tr>\n",
       "    <tr>\n",
       "      <th>Married_Yes</th>\n",
       "      <td>0.028516</td>\n",
       "    </tr>\n",
       "    <tr>\n",
       "      <th>Property_Area_Urban</th>\n",
       "      <td>0.023293</td>\n",
       "    </tr>\n",
       "    <tr>\n",
       "      <th>Gender_Male</th>\n",
       "      <td>0.023147</td>\n",
       "    </tr>\n",
       "    <tr>\n",
       "      <th>Education_Not Graduate</th>\n",
       "      <td>0.021945</td>\n",
       "    </tr>\n",
       "    <tr>\n",
       "      <th>Self_Employed_Yes</th>\n",
       "      <td>0.021851</td>\n",
       "    </tr>\n",
       "  </tbody>\n",
       "</table>\n",
       "</div>"
      ],
      "text/plain": [
       "                         Importance\n",
       "TotalIncome_log            0.269017\n",
       "Credit_History             0.247432\n",
       "LoanAmount_log             0.240023\n",
       "Dependents                 0.053966\n",
       "Loan_Amount_Term           0.040635\n",
       "Property_Area_Semiurban    0.030175\n",
       "Married_Yes                0.028516\n",
       "Property_Area_Urban        0.023293\n",
       "Gender_Male                0.023147\n",
       "Education_Not Graduate     0.021945\n",
       "Self_Employed_Yes          0.021851"
      ]
     },
     "execution_count": 255,
     "metadata": {},
     "output_type": "execute_result"
    }
   ],
   "source": [
    "#DataFrame showing which features are most important:\n",
    "featimp = pd.DataFrame(RF.feature_importances_, \n",
    "                       index=predictor_var,columns = ['Importance']).sort_values(['Importance'],ascending = False)\n",
    "\n",
    "featimp"
   ]
  },
  {
   "cell_type": "markdown",
   "metadata": {
    "collapsed": true
   },
   "source": [
    "I will use the top 5 features listed above and re-try the random forest algorithm"
   ]
  },
  {
   "cell_type": "code",
   "execution_count": 265,
   "metadata": {},
   "outputs": [
    {
     "name": "stdout",
     "output_type": "stream",
     "text": [
      "Training confusion Matrix\n",
      "[[102  90]\n",
      " [ 13 409]]\n",
      "\n",
      "             precision    recall  f1-score   support\n",
      "\n",
      "          0       0.89      0.53      0.66       192\n",
      "          1       0.82      0.97      0.89       422\n",
      "\n",
      "avg / total       0.84      0.83      0.82       614\n",
      "\n",
      "Training set accuracy : 83.225%\n",
      "Aggregated Confusion Matrix:\n",
      "      0      1\n",
      "0  90.0  102.0\n",
      "1  19.0  403.0\n",
      "\n",
      "KFold Accuracy: 80.307%\n"
     ]
    }
   ],
   "source": [
    "RF2 = RandomForestClassifier(n_estimators=100, min_samples_split=20, max_depth=7, max_features=5)\n",
    "predictor_var = ['TotalIncome_log','LoanAmount_log','Credit_History','Dependents','Loan_Amount_Term']\n",
    "classify_model(RF2,df2[predictor_var],y)"
   ]
  },
  {
   "cell_type": "markdown",
   "metadata": {
    "collapsed": true
   },
   "source": [
    "## Potential Improvements:\n",
    "\n",
    "**If I had the time to continue making improvements to this project, here are some ideas for how I would go about doing so:**\n",
    "    \n",
    "1. It would be worth trying a **gradient boosting** method such as XgBoost or Adaboost and seeing if this increases performance. There's got to be a reason they are featured in so many kaggle winning competitions! :) \n",
    "\n",
    "2. **The parameters** of each algorithm can drastically influence performance. It would definitely be worth spending more time fine-tuning these parameters to find those that are optimal.\n",
    "\n",
    "3. **Smart/Creative Feature extraction** - Finding those features which are the most discriminative/useful is an art and a science and has been the driving force behind many Kaggle winning solutions. I could spend more time trying to derive useful/discriminative features."
   ]
  }
 ],
 "metadata": {
  "kernelspec": {
   "display_name": "Python 2",
   "language": "python",
   "name": "python2"
  },
  "language_info": {
   "codemirror_mode": {
    "name": "ipython",
    "version": 2
   },
   "file_extension": ".py",
   "mimetype": "text/x-python",
   "name": "python",
   "nbconvert_exporter": "python",
   "pygments_lexer": "ipython2",
   "version": "2.7.13"
  }
 },
 "nbformat": 4,
 "nbformat_minor": 2
}
